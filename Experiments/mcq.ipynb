{
 "cells": [
  {
   "cell_type": "code",
   "execution_count": 1,
   "id": "c58c59dd",
   "metadata": {},
   "outputs": [],
   "source": [
    "import os\n",
    "import json\n",
    "import pandas as pd\n",
    "import traceback"
   ]
  },
  {
   "cell_type": "code",
   "execution_count": 2,
   "id": "e1eb850b",
   "metadata": {},
   "outputs": [],
   "source": [
    "from langchain.chat_models import ChatOpenAI"
   ]
  },
  {
   "cell_type": "code",
   "execution_count": 3,
   "id": "e52d0a27",
   "metadata": {},
   "outputs": [
    {
     "data": {
      "text/plain": [
       "True"
      ]
     },
     "execution_count": 3,
     "metadata": {},
     "output_type": "execute_result"
    }
   ],
   "source": [
    "from dotenv import load_dotenv\n",
    "\n",
    "load_dotenv()"
   ]
  },
  {
   "cell_type": "code",
   "execution_count": 4,
   "id": "9bb094de",
   "metadata": {},
   "outputs": [],
   "source": [
    "KEY = os.getenv(\"OPENAI_API_KEY\")"
   ]
  },
  {
   "cell_type": "code",
   "execution_count": 5,
   "id": "1368e61f",
   "metadata": {},
   "outputs": [
    {
     "name": "stderr",
     "output_type": "stream",
     "text": [
      "/var/folders/8j/ythr_y152qx4ycdfpz80jjf80000gn/T/ipykernel_37503/1807527743.py:1: LangChainDeprecationWarning: The class `ChatOpenAI` was deprecated in LangChain 0.0.10 and will be removed in 1.0. An updated version of the class exists in the :class:`~langchain-openai package and should be used instead. To use it run `pip install -U :class:`~langchain-openai` and import as `from :class:`~langchain_openai import ChatOpenAI``.\n",
      "  llm = ChatOpenAI(openai_api_key=KEY,model_name=\"gpt-4o\",temperature=0.5)\n"
     ]
    }
   ],
   "source": [
    "llm = ChatOpenAI(openai_api_key=KEY,model_name=\"gpt-4o\",temperature=0.5)"
   ]
  },
  {
   "cell_type": "code",
   "execution_count": 6,
   "id": "4022e275",
   "metadata": {},
   "outputs": [],
   "source": [
    "from langchain.llms import OpenAI\n",
    "from langchain.prompts import PromptTemplate\n",
    "from langchain.chains import LLMChain\n",
    "from langchain.chains import SequentialChain\n",
    "from langchain.callbacks import get_openai_callback\n",
    "import PyPDF2"
   ]
  },
  {
   "cell_type": "code",
   "execution_count": 7,
   "id": "0d8bf24f",
   "metadata": {},
   "outputs": [],
   "source": [
    "RESPONSE_JSON = {\n",
    "    \"1\": {\n",
    "        \"MCQ\" : \"Mulitple Choice Question\",\n",
    "        \"Options\" : {\n",
    "            \"A\" : \"First Choice\",\n",
    "            \"B\" : \"Second Choice\",\n",
    "            \"C\" : \"Third Choice\",\n",
    "            \"D\" : \"Fourth Choice\"\n",
    "        }, \n",
    "        \"Correct Answer\" : \"Correct Answer\"\n",
    "    }\n",
    "}"
   ]
  },
  {
   "cell_type": "code",
   "execution_count": 8,
   "id": "9d14272b",
   "metadata": {},
   "outputs": [],
   "source": [
    "TEMPLATE = \"\"\" \n",
    "Text: {text}\n",
    "You are an expert MCQ Generator. Given the above text, your task is to \\\n",
    "generate a quiz of {number} multiple choice questions in {tone} tone.\n",
    "These mulitple choice questions will be used by the professor to test the students so generate difficult questions.\n",
    "You have to make sure that the questions are not repeated and then check if all the questions align with the given text or not.\n",
    "You also have to make sure that you format your response as per the RESPONSE_JSON below and use it as a guide to generate the questions.\n",
    "\n",
    "### RESPONSE_JSON\n",
    "{response_json}\n",
    "\"\"\"\n"
   ]
  },
  {
   "cell_type": "code",
   "execution_count": 9,
   "id": "4777fabd",
   "metadata": {},
   "outputs": [],
   "source": [
    "quiz_generation_prompt = PromptTemplate(\n",
    "    input_variables=[\"text\",\"number\",\"subject\",\"tone\",\"response_json\"],\n",
    "    template = TEMPLATE\n",
    ")"
   ]
  },
  {
   "cell_type": "code",
   "execution_count": 10,
   "id": "bffe4827",
   "metadata": {},
   "outputs": [
    {
     "name": "stderr",
     "output_type": "stream",
     "text": [
      "/var/folders/8j/ythr_y152qx4ycdfpz80jjf80000gn/T/ipykernel_37503/3462200221.py:1: LangChainDeprecationWarning: The class `LLMChain` was deprecated in LangChain 0.1.17 and will be removed in 1.0. Use :meth:`~RunnableSequence, e.g., `prompt | llm`` instead.\n",
      "  quiz_chain = LLMChain(llm = llm, prompt = quiz_generation_prompt, output_key = \"quiz\", verbose = True)\n"
     ]
    }
   ],
   "source": [
    "quiz_chain = LLMChain(llm = llm, prompt = quiz_generation_prompt, output_key = \"quiz\", verbose = True)"
   ]
  },
  {
   "cell_type": "code",
   "execution_count": 11,
   "id": "427ff910",
   "metadata": {},
   "outputs": [],
   "source": [
    "TEMPLATE2 = \"\"\"\"\n",
    "You are expert english evaluator. You will check the quiz questions for grammar and spelling mistakes. \n",
    "You will be given with mulitple choice questions for {subject} students.\n",
    "Your task is to evaluate the complexity of the questions and give a complete analysis of the quiz quiz. Only use a maximum of 50 words for the analysis. \n",
    "If the quiz is not as per the cognitive and analytical abilty of the students, then we must generate new questions such that it perfectly fits the \n",
    "student's abilities.\n",
    "\n",
    "Quiz_MCQ:\n",
    "{quiz}\n",
    "\"\"\""
   ]
  },
  {
   "cell_type": "code",
   "execution_count": 12,
   "id": "9b4cb071",
   "metadata": {},
   "outputs": [],
   "source": [
    "quiz_evaluation_prompt = PromptTemplate(input_variables=[\"subject\",\"quiz\"], template = TEMPLATE2)"
   ]
  },
  {
   "cell_type": "code",
   "execution_count": 13,
   "id": "0e074e20",
   "metadata": {},
   "outputs": [],
   "source": [
    "review_chain = LLMChain(llm = llm, prompt = quiz_evaluation_prompt, output_key = \"review\", verbose = True)"
   ]
  },
  {
   "cell_type": "code",
   "execution_count": 14,
   "id": "13ed0756",
   "metadata": {},
   "outputs": [],
   "source": [
    "generate_evaluate_chain = SequentialChain(chains = [quiz_chain, review_chain], input_variables = [\"text\",\"number\",\"subject\",\"tone\",\"response_json\"],\n",
    "                                          output_variables = [\"quiz\",\"review\"], verbose = True)"
   ]
  },
  {
   "cell_type": "code",
   "execution_count": 15,
   "id": "19f8829f",
   "metadata": {},
   "outputs": [],
   "source": [
    "file_path = r\"/Users/atharva7/Downloads/MCQ-Generator/data.txt\"\n"
   ]
  },
  {
   "cell_type": "code",
   "execution_count": 16,
   "id": "a9c21d75",
   "metadata": {},
   "outputs": [],
   "source": [
    "with open(file_path,'r') as file:\n",
    "    TEXT = file.read()"
   ]
  },
  {
   "cell_type": "code",
   "execution_count": 17,
   "id": "83832dac",
   "metadata": {},
   "outputs": [
    {
     "name": "stdout",
     "output_type": "stream",
     "text": [
      "Deep learning is a subset of machine learning that focuses on utilizing multilayered neural networks to perform tasks such as classification, regression, and representation learning. The field takes inspiration from biological neuroscience and is centered around stacking artificial neurons into layers and \"training\" them to process data. The adjective \"deep\" refers to the use of multiple layers (ranging from three to several hundred or thousands) in the network. Methods used can be either supervised, semi-supervised or unsupervised.[2]\n",
      "\n",
      "Some common deep learning network architectures include fully connected networks, deep belief networks, recurrent neural networks, convolutional neural networks, generative adversarial networks, transformers, and neural radiance fields. These architectures have been applied to fields including computer vision, speech recognition, natural language processing, machine translation, bioinformatics, drug design, medical image analysis, climate science, material inspection and board game programs, where they have produced results comparable to and in some cases surpassing human expert performance.[3][4][5]\n",
      "\n",
      "Early forms of neural networks were inspired by information processing and distributed communication nodes in biological systems, particularly the human brain. However, current neural networks do not intend to model the brain function of organisms, and are generally seen as low-quality models for that purpose.[6]\n",
      "\n",
      "Artificial neural networks (ANNs) or connectionist systems are computing systems inspired by the biological neural networks that constitute animal brains. Such systems learn (progressively improve their ability) to do tasks by considering examples, generally without task-specific programming. For example, in image recognition, they might learn to identify images that contain cats by analyzing example images that have been manually labeled as \"cat\" or \"no cat\" and using the analytic results to identify cats in other images. They have found most use in applications difficult to express with a traditional computer algorithm using rule-based programming.\n",
      "\n",
      "An ANN is based on a collection of connected units called artificial neurons, (analogous to biological neurons in a biological brain). Each connection (synapse) between neurons can transmit a signal to another neuron. The receiving (postsynaptic) neuron can process the signal(s) and then signal downstream neurons connected to it. Neurons may have state, generally represented by real numbers, typically between 0 and 1. Neurons and synapses may also have a weight that varies as learning proceeds, which can increase or decrease the strength of the signal that it sends downstream.\n",
      "\n",
      "Typically, neurons are organized in layers. Different layers may perform different kinds of transformations on their inputs. Signals travel from the first (input), to the last (output) layer, possibly after traversing the layers multiple times.\n",
      "\n",
      "The original goal of the neural network approach was to solve problems in the same way that a human brain would. Over time, attention focused on matching specific mental abilities, leading to deviations from biology such as backpropagation, or passing information in the reverse direction and adjusting the network to reflect that information.\n",
      "\n",
      "Neural networks have been used on a variety of tasks, including computer vision, speech recognition, machine translation, social network filtering, playing board and video games and medical diagnosis.\n",
      "\n",
      "As of 2017, neural networks typically have a few thousand to a few million units and millions of connections. Despite this number being several order of magnitude less than the number of neurons on a human brain, these networks can perform many tasks at a level beyond that of humans (e.g., recognizing faces, or playing \"Go\"[144]).\n",
      "\n",
      "Deep neural networks\n",
      "A deep neural network (DNN) is an artificial neural network with multiple layers between the input and output layers.[7][9] There are different types of neural networks but they always consist of the same components: neurons, synapses, weights, biases, and functions.[145] These components as a whole function in a way that mimics functions of the human brain, and can be trained like any other ML algorithm.[citation needed]\n",
      "\n",
      "For example, a DNN that is trained to recognize dog breeds will go over the given image and calculate the probability that the dog in the image is a certain breed. The user can review the results and select which probabilities the network should display (above a certain threshold, etc.) and return the proposed label. Each mathematical manipulation as such is considered a layer, [146] and complex DNN have many layers, hence the name \"deep\" networks.\n",
      "\n",
      "DNNs can model complex non-linear relationships. DNN architectures generate compositional models where the object is expressed as a layered composition of primitives.[147] The extra layers enable composition of features from lower layers, potentially modeling complex data with fewer units than a similarly performing shallow network.[7] For instance, it was proved that sparse multivariate polynomials are exponentially easier to approximate with DNNs than with shallow networks.[148]\n",
      "\n",
      "Deep architectures include many variants of a few basic approaches. Each architecture has found success in specific domains. It is not always possible to compare the performance of multiple architectures, unless they have been evaluated on the same data sets.[146]\n",
      "\n",
      "DNNs are typically feedforward networks in which data flows from the input layer to the output layer without looping back. At first, the DNN creates a map of virtual neurons and assigns random numerical values, or \"weights\", to connections between them. The weights and inputs are multiplied and return an output between 0 and 1. If the network did not accurately recognize a particular pattern, an algorithm would adjust the weights.[149] That way the algorithm can make certain parameters more influential, until it determines the correct mathematical manipulation to fully process the data.\n",
      "\n",
      "\n"
     ]
    }
   ],
   "source": [
    "print(TEXT)"
   ]
  },
  {
   "cell_type": "code",
   "execution_count": 18,
   "id": "b1b3223b",
   "metadata": {},
   "outputs": [
    {
     "data": {
      "text/plain": [
       "'{\"1\": {\"MCQ\": \"Mulitple Choice Question\", \"Options\": {\"A\": \"First Choice\", \"B\": \"Second Choice\", \"C\": \"Third Choice\", \"D\": \"Fourth Choice\"}, \"Correct Answer\": \"Correct Answer\"}}'"
      ]
     },
     "execution_count": 18,
     "metadata": {},
     "output_type": "execute_result"
    }
   ],
   "source": [
    "json.dumps(RESPONSE_JSON)"
   ]
  },
  {
   "cell_type": "code",
   "execution_count": 19,
   "id": "7609eebe",
   "metadata": {},
   "outputs": [],
   "source": [
    "NUMBER = 5\n",
    "SUBJECT = \"Deep Learning\"\n",
    "TONE = \"Difficult\""
   ]
  },
  {
   "cell_type": "code",
   "execution_count": 20,
   "id": "5d611234",
   "metadata": {},
   "outputs": [
    {
     "name": "stderr",
     "output_type": "stream",
     "text": [
      "/var/folders/8j/ythr_y152qx4ycdfpz80jjf80000gn/T/ipykernel_37503/2239094140.py:2: LangChainDeprecationWarning: The method `Chain.__call__` was deprecated in langchain 0.1.0 and will be removed in 1.0. Use :meth:`~invoke` instead.\n",
      "  response = generate_evaluate_chain(\n"
     ]
    },
    {
     "name": "stdout",
     "output_type": "stream",
     "text": [
      "\n",
      "\n",
      "\u001b[1m> Entering new SequentialChain chain...\u001b[0m\n",
      "\n",
      "\n",
      "\u001b[1m> Entering new LLMChain chain...\u001b[0m\n",
      "Prompt after formatting:\n",
      "\u001b[32;1m\u001b[1;3m \n",
      "Text: Deep learning is a subset of machine learning that focuses on utilizing multilayered neural networks to perform tasks such as classification, regression, and representation learning. The field takes inspiration from biological neuroscience and is centered around stacking artificial neurons into layers and \"training\" them to process data. The adjective \"deep\" refers to the use of multiple layers (ranging from three to several hundred or thousands) in the network. Methods used can be either supervised, semi-supervised or unsupervised.[2]\n",
      "\n",
      "Some common deep learning network architectures include fully connected networks, deep belief networks, recurrent neural networks, convolutional neural networks, generative adversarial networks, transformers, and neural radiance fields. These architectures have been applied to fields including computer vision, speech recognition, natural language processing, machine translation, bioinformatics, drug design, medical image analysis, climate science, material inspection and board game programs, where they have produced results comparable to and in some cases surpassing human expert performance.[3][4][5]\n",
      "\n",
      "Early forms of neural networks were inspired by information processing and distributed communication nodes in biological systems, particularly the human brain. However, current neural networks do not intend to model the brain function of organisms, and are generally seen as low-quality models for that purpose.[6]\n",
      "\n",
      "Artificial neural networks (ANNs) or connectionist systems are computing systems inspired by the biological neural networks that constitute animal brains. Such systems learn (progressively improve their ability) to do tasks by considering examples, generally without task-specific programming. For example, in image recognition, they might learn to identify images that contain cats by analyzing example images that have been manually labeled as \"cat\" or \"no cat\" and using the analytic results to identify cats in other images. They have found most use in applications difficult to express with a traditional computer algorithm using rule-based programming.\n",
      "\n",
      "An ANN is based on a collection of connected units called artificial neurons, (analogous to biological neurons in a biological brain). Each connection (synapse) between neurons can transmit a signal to another neuron. The receiving (postsynaptic) neuron can process the signal(s) and then signal downstream neurons connected to it. Neurons may have state, generally represented by real numbers, typically between 0 and 1. Neurons and synapses may also have a weight that varies as learning proceeds, which can increase or decrease the strength of the signal that it sends downstream.\n",
      "\n",
      "Typically, neurons are organized in layers. Different layers may perform different kinds of transformations on their inputs. Signals travel from the first (input), to the last (output) layer, possibly after traversing the layers multiple times.\n",
      "\n",
      "The original goal of the neural network approach was to solve problems in the same way that a human brain would. Over time, attention focused on matching specific mental abilities, leading to deviations from biology such as backpropagation, or passing information in the reverse direction and adjusting the network to reflect that information.\n",
      "\n",
      "Neural networks have been used on a variety of tasks, including computer vision, speech recognition, machine translation, social network filtering, playing board and video games and medical diagnosis.\n",
      "\n",
      "As of 2017, neural networks typically have a few thousand to a few million units and millions of connections. Despite this number being several order of magnitude less than the number of neurons on a human brain, these networks can perform many tasks at a level beyond that of humans (e.g., recognizing faces, or playing \"Go\"[144]).\n",
      "\n",
      "Deep neural networks\n",
      "A deep neural network (DNN) is an artificial neural network with multiple layers between the input and output layers.[7][9] There are different types of neural networks but they always consist of the same components: neurons, synapses, weights, biases, and functions.[145] These components as a whole function in a way that mimics functions of the human brain, and can be trained like any other ML algorithm.[citation needed]\n",
      "\n",
      "For example, a DNN that is trained to recognize dog breeds will go over the given image and calculate the probability that the dog in the image is a certain breed. The user can review the results and select which probabilities the network should display (above a certain threshold, etc.) and return the proposed label. Each mathematical manipulation as such is considered a layer, [146] and complex DNN have many layers, hence the name \"deep\" networks.\n",
      "\n",
      "DNNs can model complex non-linear relationships. DNN architectures generate compositional models where the object is expressed as a layered composition of primitives.[147] The extra layers enable composition of features from lower layers, potentially modeling complex data with fewer units than a similarly performing shallow network.[7] For instance, it was proved that sparse multivariate polynomials are exponentially easier to approximate with DNNs than with shallow networks.[148]\n",
      "\n",
      "Deep architectures include many variants of a few basic approaches. Each architecture has found success in specific domains. It is not always possible to compare the performance of multiple architectures, unless they have been evaluated on the same data sets.[146]\n",
      "\n",
      "DNNs are typically feedforward networks in which data flows from the input layer to the output layer without looping back. At first, the DNN creates a map of virtual neurons and assigns random numerical values, or \"weights\", to connections between them. The weights and inputs are multiplied and return an output between 0 and 1. If the network did not accurately recognize a particular pattern, an algorithm would adjust the weights.[149] That way the algorithm can make certain parameters more influential, until it determines the correct mathematical manipulation to fully process the data.\n",
      "\n",
      "\n",
      "You are an expert MCQ Generator. Given the above text, your task is to generate a quiz of 5 multiple choice questions in Difficult tone.\n",
      "These mulitple choice questions will be used by the professor to test the students so generate difficult questions.\n",
      "You have to make sure that the questions are not repeated and then check if all the questions align with the given text or not.\n",
      "You also have to make sure that you format your response as per the RESPONSE_JSON below and use it as a guide to generate the questions.\n",
      "\n",
      "### RESPONSE_JSON\n",
      "{\"1\": {\"MCQ\": \"Mulitple Choice Question\", \"Options\": {\"A\": \"First Choice\", \"B\": \"Second Choice\", \"C\": \"Third Choice\", \"D\": \"Fourth Choice\"}, \"Correct Answer\": \"Correct Answer\"}}\n",
      "\u001b[0m\n",
      "\n",
      "\u001b[1m> Finished chain.\u001b[0m\n",
      "\n",
      "\n",
      "\u001b[1m> Entering new LLMChain chain...\u001b[0m\n",
      "Prompt after formatting:\n",
      "\u001b[32;1m\u001b[1;3m\"\n",
      "You are expert english evaluator. You will check the quiz questions for grammar and spelling mistakes. \n",
      "You will be given with mulitple choice questions for Deep Learning students.\n",
      "Your task is to evaluate the complexity of the questions and give a complete analysis of the quiz quiz. Only use a maximum of 50 words for the analysis. \n",
      "If the quiz is not as per the cognitive and analytical abilty of the students, then we must generate new questions such that it perfectly fits the \n",
      "student's abilities.\n",
      "\n",
      "Quiz_MCQ:\n",
      "{\"1\": {\"MCQ\": \"Which of the following best describes the primary inspiration for the development of deep learning architectures?\", \"Options\": {\"A\": \"Quantum computing principles\", \"B\": \"Biological neuroscience\", \"C\": \"Traditional rule-based programming\", \"D\": \"Classical physics\"}, \"Correct Answer\": \"B\"}, \"2\": {\"MCQ\": \"What is the main characteristic that differentiates deep neural networks (DNNs) from shallow networks?\", \"Options\": {\"A\": \"The use of recurrent connections\", \"B\": \"The number of layers between input and output\", \"C\": \"The ability to process sequential data\", \"D\": \"The application of supervised learning techniques\"}, \"Correct Answer\": \"B\"}, \"3\": {\"MCQ\": \"In the context of deep learning, what does the term 'deep' specifically refer to?\", \"Options\": {\"A\": \"The depth of understanding the model has\", \"B\": \"The complexity of the algorithms used\", \"C\": \"The number of layers in the neural network\", \"D\": \"The amount of data processed by the network\"}, \"Correct Answer\": \"C\"}, \"4\": {\"MCQ\": \"Which of the following statements is true about artificial neural networks (ANNs)?\", \"Options\": {\"A\": \"They are intended to accurately model the brain function of organisms.\", \"B\": \"They are generally seen as high-quality models for understanding biological processes.\", \"C\": \"They learn tasks by considering examples, often without task-specific programming.\", \"D\": \"They are primarily used for tasks easily expressed with traditional algorithms.\"}, \"Correct Answer\": \"C\"}, \"5\": {\"MCQ\": \"What is a significant advantage of deep neural networks over shallow networks?\", \"Options\": {\"A\": \"They require fewer computational resources.\", \"B\": \"They are easier to implement and understand.\", \"C\": \"They can model complex non-linear relationships more efficiently.\", \"D\": \"They have fewer hyperparameters to tune.\"}, \"Correct Answer\": \"C\"}}\n",
      "\u001b[0m\n",
      "\n",
      "\u001b[1m> Finished chain.\u001b[0m\n",
      "\n",
      "\u001b[1m> Finished chain.\u001b[0m\n"
     ]
    }
   ],
   "source": [
    "with get_openai_callback() as cb:\n",
    "    response = generate_evaluate_chain(\n",
    "        {\n",
    "            \"text\" : TEXT,\n",
    "            \"number\" : NUMBER,\n",
    "            \"subject\" : SUBJECT,\n",
    "            \"tone\" : TONE,\n",
    "            \"response_json\" : json.dumps(RESPONSE_JSON)\n",
    "        }\n",
    "    )"
   ]
  },
  {
   "cell_type": "code",
   "execution_count": 22,
   "id": "aef5a17e",
   "metadata": {},
   "outputs": [
    {
     "name": "stdout",
     "output_type": "stream",
     "text": [
      "Total Tokens: 2293\n",
      "Prompt Tokens: 1824\n",
      "Completion Tokens: 469\n",
      "Total Cost: $0.00925\n"
     ]
    }
   ],
   "source": [
    "print(f\"Total Tokens: {cb.total_tokens}\")\n",
    "print(f\"Prompt Tokens: {cb.prompt_tokens}\")\n",
    "print(f\"Completion Tokens: {cb.completion_tokens}\")\n",
    "print(f\"Total Cost: ${cb.total_cost}\")"
   ]
  },
  {
   "cell_type": "code",
   "execution_count": 23,
   "id": "50e3d126",
   "metadata": {},
   "outputs": [
    {
     "data": {
      "text/plain": [
       "{'text': 'Deep learning is a subset of machine learning that focuses on utilizing multilayered neural networks to perform tasks such as classification, regression, and representation learning. The field takes inspiration from biological neuroscience and is centered around stacking artificial neurons into layers and \"training\" them to process data. The adjective \"deep\" refers to the use of multiple layers (ranging from three to several hundred or thousands) in the network. Methods used can be either supervised, semi-supervised or unsupervised.[2]\\n\\nSome common deep learning network architectures include fully connected networks, deep belief networks, recurrent neural networks, convolutional neural networks, generative adversarial networks, transformers, and neural radiance fields. These architectures have been applied to fields including computer vision, speech recognition, natural language processing, machine translation, bioinformatics, drug design, medical image analysis, climate science, material inspection and board game programs, where they have produced results comparable to and in some cases surpassing human expert performance.[3][4][5]\\n\\nEarly forms of neural networks were inspired by information processing and distributed communication nodes in biological systems, particularly the human brain. However, current neural networks do not intend to model the brain function of organisms, and are generally seen as low-quality models for that purpose.[6]\\n\\nArtificial neural networks (ANNs) or connectionist systems are computing systems inspired by the biological neural networks that constitute animal brains. Such systems learn (progressively improve their ability) to do tasks by considering examples, generally without task-specific programming. For example, in image recognition, they might learn to identify images that contain cats by analyzing example images that have been manually labeled as \"cat\" or \"no cat\" and using the analytic results to identify cats in other images. They have found most use in applications difficult to express with a traditional computer algorithm using rule-based programming.\\n\\nAn ANN is based on a collection of connected units called artificial neurons, (analogous to biological neurons in a biological brain). Each connection (synapse) between neurons can transmit a signal to another neuron. The receiving (postsynaptic) neuron can process the signal(s) and then signal downstream neurons connected to it. Neurons may have state, generally represented by real numbers, typically between 0 and 1. Neurons and synapses may also have a weight that varies as learning proceeds, which can increase or decrease the strength of the signal that it sends downstream.\\n\\nTypically, neurons are organized in layers. Different layers may perform different kinds of transformations on their inputs. Signals travel from the first (input), to the last (output) layer, possibly after traversing the layers multiple times.\\n\\nThe original goal of the neural network approach was to solve problems in the same way that a human brain would. Over time, attention focused on matching specific mental abilities, leading to deviations from biology such as backpropagation, or passing information in the reverse direction and adjusting the network to reflect that information.\\n\\nNeural networks have been used on a variety of tasks, including computer vision, speech recognition, machine translation, social network filtering, playing board and video games and medical diagnosis.\\n\\nAs of 2017, neural networks typically have a few thousand to a few million units and millions of connections. Despite this number being several order of magnitude less than the number of neurons on a human brain, these networks can perform many tasks at a level beyond that of humans (e.g., recognizing faces, or playing \"Go\"[144]).\\n\\nDeep neural networks\\nA deep neural network (DNN) is an artificial neural network with multiple layers between the input and output layers.[7][9] There are different types of neural networks but they always consist of the same components: neurons, synapses, weights, biases, and functions.[145] These components as a whole function in a way that mimics functions of the human brain, and can be trained like any other ML algorithm.[citation needed]\\n\\nFor example, a DNN that is trained to recognize dog breeds will go over the given image and calculate the probability that the dog in the image is a certain breed. The user can review the results and select which probabilities the network should display (above a certain threshold, etc.) and return the proposed label. Each mathematical manipulation as such is considered a layer, [146] and complex DNN have many layers, hence the name \"deep\" networks.\\n\\nDNNs can model complex non-linear relationships. DNN architectures generate compositional models where the object is expressed as a layered composition of primitives.[147] The extra layers enable composition of features from lower layers, potentially modeling complex data with fewer units than a similarly performing shallow network.[7] For instance, it was proved that sparse multivariate polynomials are exponentially easier to approximate with DNNs than with shallow networks.[148]\\n\\nDeep architectures include many variants of a few basic approaches. Each architecture has found success in specific domains. It is not always possible to compare the performance of multiple architectures, unless they have been evaluated on the same data sets.[146]\\n\\nDNNs are typically feedforward networks in which data flows from the input layer to the output layer without looping back. At first, the DNN creates a map of virtual neurons and assigns random numerical values, or \"weights\", to connections between them. The weights and inputs are multiplied and return an output between 0 and 1. If the network did not accurately recognize a particular pattern, an algorithm would adjust the weights.[149] That way the algorithm can make certain parameters more influential, until it determines the correct mathematical manipulation to fully process the data.\\n\\n',\n",
       " 'number': 5,\n",
       " 'subject': 'Deep Learning',\n",
       " 'tone': 'Difficult',\n",
       " 'response_json': '{\"1\": {\"MCQ\": \"Mulitple Choice Question\", \"Options\": {\"A\": \"First Choice\", \"B\": \"Second Choice\", \"C\": \"Third Choice\", \"D\": \"Fourth Choice\"}, \"Correct Answer\": \"Correct Answer\"}}',\n",
       " 'quiz': '{\"1\": {\"MCQ\": \"Which of the following best describes the primary inspiration for the development of deep learning architectures?\", \"Options\": {\"A\": \"Quantum computing principles\", \"B\": \"Biological neuroscience\", \"C\": \"Traditional rule-based programming\", \"D\": \"Classical physics\"}, \"Correct Answer\": \"B\"}, \"2\": {\"MCQ\": \"What is the main characteristic that differentiates deep neural networks (DNNs) from shallow networks?\", \"Options\": {\"A\": \"The use of recurrent connections\", \"B\": \"The number of layers between input and output\", \"C\": \"The ability to process sequential data\", \"D\": \"The application of supervised learning techniques\"}, \"Correct Answer\": \"B\"}, \"3\": {\"MCQ\": \"In the context of deep learning, what does the term \\'deep\\' specifically refer to?\", \"Options\": {\"A\": \"The depth of understanding the model has\", \"B\": \"The complexity of the algorithms used\", \"C\": \"The number of layers in the neural network\", \"D\": \"The amount of data processed by the network\"}, \"Correct Answer\": \"C\"}, \"4\": {\"MCQ\": \"Which of the following statements is true about artificial neural networks (ANNs)?\", \"Options\": {\"A\": \"They are intended to accurately model the brain function of organisms.\", \"B\": \"They are generally seen as high-quality models for understanding biological processes.\", \"C\": \"They learn tasks by considering examples, often without task-specific programming.\", \"D\": \"They are primarily used for tasks easily expressed with traditional algorithms.\"}, \"Correct Answer\": \"C\"}, \"5\": {\"MCQ\": \"What is a significant advantage of deep neural networks over shallow networks?\", \"Options\": {\"A\": \"They require fewer computational resources.\", \"B\": \"They are easier to implement and understand.\", \"C\": \"They can model complex non-linear relationships more efficiently.\", \"D\": \"They have fewer hyperparameters to tune.\"}, \"Correct Answer\": \"C\"}}',\n",
       " 'review': 'The quiz questions are grammatically correct and free from spelling mistakes. The complexity of the questions is appropriate for deep learning students, as they require understanding of foundational concepts in deep learning architectures, characteristics, and advantages. No modifications are necessary for cognitive or analytical alignment.'}"
      ]
     },
     "execution_count": 23,
     "metadata": {},
     "output_type": "execute_result"
    }
   ],
   "source": [
    "response"
   ]
  },
  {
   "cell_type": "code",
   "execution_count": 24,
   "id": "04933d81",
   "metadata": {},
   "outputs": [
    {
     "data": {
      "text/plain": [
       "'{\"1\": {\"MCQ\": \"Which of the following best describes the primary inspiration for the development of deep learning architectures?\", \"Options\": {\"A\": \"Quantum computing principles\", \"B\": \"Biological neuroscience\", \"C\": \"Traditional rule-based programming\", \"D\": \"Classical physics\"}, \"Correct Answer\": \"B\"}, \"2\": {\"MCQ\": \"What is the main characteristic that differentiates deep neural networks (DNNs) from shallow networks?\", \"Options\": {\"A\": \"The use of recurrent connections\", \"B\": \"The number of layers between input and output\", \"C\": \"The ability to process sequential data\", \"D\": \"The application of supervised learning techniques\"}, \"Correct Answer\": \"B\"}, \"3\": {\"MCQ\": \"In the context of deep learning, what does the term \\'deep\\' specifically refer to?\", \"Options\": {\"A\": \"The depth of understanding the model has\", \"B\": \"The complexity of the algorithms used\", \"C\": \"The number of layers in the neural network\", \"D\": \"The amount of data processed by the network\"}, \"Correct Answer\": \"C\"}, \"4\": {\"MCQ\": \"Which of the following statements is true about artificial neural networks (ANNs)?\", \"Options\": {\"A\": \"They are intended to accurately model the brain function of organisms.\", \"B\": \"They are generally seen as high-quality models for understanding biological processes.\", \"C\": \"They learn tasks by considering examples, often without task-specific programming.\", \"D\": \"They are primarily used for tasks easily expressed with traditional algorithms.\"}, \"Correct Answer\": \"C\"}, \"5\": {\"MCQ\": \"What is a significant advantage of deep neural networks over shallow networks?\", \"Options\": {\"A\": \"They require fewer computational resources.\", \"B\": \"They are easier to implement and understand.\", \"C\": \"They can model complex non-linear relationships more efficiently.\", \"D\": \"They have fewer hyperparameters to tune.\"}, \"Correct Answer\": \"C\"}}'"
      ]
     },
     "execution_count": 24,
     "metadata": {},
     "output_type": "execute_result"
    }
   ],
   "source": [
    "response.get(\"quiz\")"
   ]
  },
  {
   "cell_type": "code",
   "execution_count": null,
   "id": "6a6b4763",
   "metadata": {},
   "outputs": [],
   "source": []
  },
  {
   "cell_type": "code",
   "execution_count": null,
   "id": "4898caeb",
   "metadata": {},
   "outputs": [],
   "source": []
  },
  {
   "cell_type": "code",
   "execution_count": null,
   "id": "54be8b6d",
   "metadata": {},
   "outputs": [],
   "source": []
  },
  {
   "cell_type": "code",
   "execution_count": null,
   "id": "f01c7e54",
   "metadata": {},
   "outputs": [],
   "source": []
  },
  {
   "cell_type": "code",
   "execution_count": null,
   "id": "4bbf4f36",
   "metadata": {},
   "outputs": [],
   "source": []
  }
 ],
 "metadata": {
  "kernelspec": {
   "display_name": "Python 3",
   "language": "python",
   "name": "python3"
  },
  "language_info": {
   "codemirror_mode": {
    "name": "ipython",
    "version": 3
   },
   "file_extension": ".py",
   "mimetype": "text/x-python",
   "name": "python",
   "nbconvert_exporter": "python",
   "pygments_lexer": "ipython3",
   "version": "3.12.7"
  }
 },
 "nbformat": 4,
 "nbformat_minor": 5
}
